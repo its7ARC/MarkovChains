{
 "cells": [
  {
   "cell_type": "markdown",
   "metadata": {},
   "source": [
    "### Marcov Chains"
   ]
  },
  {
   "cell_type": "code",
   "execution_count": 1,
   "metadata": {},
   "outputs": [],
   "source": [
    "import numpy as np\n",
    "import pandas as pd \n",
    "import matplotlib as plt"
   ]
  },
  {
   "cell_type": "code",
   "execution_count": 2,
   "metadata": {},
   "outputs": [],
   "source": [
    "# sample sentence to be rationalized\n",
    "words = \"The best of all worlds\""
   ]
  },
  {
   "cell_type": "code",
   "execution_count": 3,
   "metadata": {},
   "outputs": [],
   "source": [
    "# lower casing\n",
    "words = words.lower()"
   ]
  },
  {
   "cell_type": "code",
   "execution_count": 4,
   "metadata": {},
   "outputs": [],
   "source": [
    "l = len(words)"
   ]
  },
  {
   "cell_type": "code",
   "execution_count": 5,
   "metadata": {},
   "outputs": [
    {
     "data": {
      "text/plain": [
       "'the'"
      ]
     },
     "execution_count": 5,
     "metadata": {},
     "output_type": "execute_result"
    }
   ],
   "source": [
    "words[0:3]"
   ]
  },
  {
   "cell_type": "code",
   "execution_count": 6,
   "metadata": {},
   "outputs": [],
   "source": [
    "# rationalisation  ie- account of count of all terms that appear after every subarray of size 'k' in training data\n",
    "def rationalize(text,k):\n",
    "    T = {}\n",
    "    \n",
    "    itr = len(text) - k\n",
    "    for i in range(itr):\n",
    "        x = text[i:i+k]\n",
    "        y = text[i+k]\n",
    "        \n",
    "        if T.get(x) is None:\n",
    "            T[x] = {}\n",
    "            T[x][y] = 1\n",
    "        \n",
    "        else:\n",
    "            if T[x].get(y) is None:\n",
    "                T[x][y] = 1\n",
    "            else:\n",
    "                T[x][y] += 1\n",
    "        \n",
    "    return T\n",
    "        "
   ]
  },
  {
   "cell_type": "code",
   "execution_count": 7,
   "metadata": {},
   "outputs": [],
   "source": [
    "T = rationalize(words,4)"
   ]
  },
  {
   "cell_type": "code",
   "execution_count": 8,
   "metadata": {},
   "outputs": [
    {
     "name": "stdout",
     "output_type": "stream",
     "text": [
      "{'the ': {'b': 1}, 'he b': {'e': 1}, 'e be': {'s': 1}, ' bes': {'t': 1}, 'best': {' ': 1}, 'est ': {'o': 1}, 'st o': {'f': 1}, 't of': {' ': 1}, ' of ': {'a': 1}, 'of a': {'l': 1}, 'f al': {'l': 1}, ' all': {' ': 1}, 'all ': {'w': 1}, 'll w': {'o': 1}, 'l wo': {'r': 1}, ' wor': {'l': 1}, 'worl': {'d': 1}, 'orld': {'s': 1}}\n"
     ]
    }
   ],
   "source": [
    "# sample rationalized data\n",
    "print(T)"
   ]
  },
  {
   "cell_type": "code",
   "execution_count": null,
   "metadata": {},
   "outputs": [],
   "source": []
  },
  {
   "cell_type": "markdown",
   "metadata": {},
   "source": [
    "#### Rationalization of 'Apna Time Aega' text file"
   ]
  },
  {
   "cell_type": "code",
   "execution_count": 9,
   "metadata": {},
   "outputs": [],
   "source": [
    "# opening file\n",
    "f = open(\"Apna time Aayega.txt\")\n",
    "text = f.read()"
   ]
  },
  {
   "cell_type": "code",
   "execution_count": 10,
   "metadata": {},
   "outputs": [],
   "source": [
    "text = text.lower()"
   ]
  },
  {
   "cell_type": "code",
   "execution_count": 11,
   "metadata": {},
   "outputs": [],
   "source": [
    "# function to compute probability of occurance of a label from rationalized data\n",
    "def convertFreqToProb(T):\n",
    "    for txt in T.keys():\n",
    "        s = sum(T[txt].values())\n",
    "        for y in T[txt].keys():\n",
    "            T[txt][y] /= s\n",
    "        \n",
    "    return T"
   ]
  },
  {
   "cell_type": "code",
   "execution_count": 12,
   "metadata": {},
   "outputs": [],
   "source": [
    "# Rationalization + Probability computation\n",
    "def generateModel(text,k):\n",
    "    T = rationalize(text,k)\n",
    "    T = convertFreqToProb(T)\n",
    "    return T"
   ]
  },
  {
   "cell_type": "code",
   "execution_count": 13,
   "metadata": {},
   "outputs": [],
   "source": [
    "# generation of model\n",
    "model = generateModel(text,4)"
   ]
  },
  {
   "cell_type": "code",
   "execution_count": null,
   "metadata": {},
   "outputs": [],
   "source": []
  },
  {
   "cell_type": "code",
   "execution_count": null,
   "metadata": {},
   "outputs": [],
   "source": []
  },
  {
   "cell_type": "code",
   "execution_count": 14,
   "metadata": {},
   "outputs": [],
   "source": [
    "# function to predict next label on account of previous 4 labels. (Here labels are letters)\n",
    "def pred_next(ctxt,model,k):\n",
    "    ctxt = ctxt[-k:]\n",
    "    if model.get(ctxt) is None:\n",
    "        return \" \"\n",
    "    else:\n",
    "        next_letter = list(model[ctxt].keys())\n",
    "        next_prob = list(model[ctxt].values())\n",
    "        #Random choice of next label with probability of different labels taken into account\n",
    "        t = np.random.choice(next_letter,p = next_prob)\n",
    "        return t\n",
    "    "
   ]
  },
  {
   "cell_type": "markdown",
   "metadata": {},
   "source": [
    "#### Generation of text with 'apna time aaega.txt' as training data"
   ]
  },
  {
   "cell_type": "code",
   "execution_count": 17,
   "metadata": {},
   "outputs": [],
   "source": [
    "#Generation of text \n",
    "def generateText(sentence,model,k = 4,text_limit = 1000):\n",
    "    sentence = sentence[-k:]\n",
    "    for i in range(text_limit):\n",
    "        t = pred_next(sentence,model,k)\n",
    "        sentence += t\n",
    "    return sentence"
   ]
  },
  {
   "cell_type": "code",
   "execution_count": 18,
   "metadata": {},
   "outputs": [
    {
     "name": "stdout",
     "output_type": "stream",
     "text": [
      "apna time aayega\n",
      "aisa shabdon ka hai\n",
      "jo darr ko bhi sar uthayega\n",
      "jitna time aaya khwaab hai\n",
      " \n",
      "tu nanga hi tha sar parwaaz dekh par\n",
      "yahaan marzi ki\n",
      "aasman bhi satayega apna time aayega\n",
      "aisa mera khud ki hai\n",
      "phir bhi satayega\n",
      "apna time aayega\n",
      "mere bhai tu\n",
      "utni raakh se\n",
      "tu udd ja apni raakh se\n",
      "tu nanga hi to khaayega\n",
      "apna toone boya hai\n",
      "shohrat ki\n",
      "himaakat ki mehnat se main\n",
      "jitni taakat ne hi barkat ki\n",
      "jeetne ki hard’ch nahin hai\n",
      "kya ghanta lekar jaayega\n",
      "apna time aayega x (2)\n",
      " \n",
      "tu nanga hi to aayega\n",
      "z\n"
     ]
    }
   ],
   "source": [
    "#generation of 500 labels\n",
    "print(generateText(\"apna\",model,4,500))"
   ]
  },
  {
   "cell_type": "code",
   "execution_count": null,
   "metadata": {},
   "outputs": [],
   "source": []
  },
  {
   "cell_type": "code",
   "execution_count": null,
   "metadata": {},
   "outputs": [],
   "source": []
  }
 ],
 "metadata": {
  "kernelspec": {
   "display_name": "Python 3",
   "language": "python",
   "name": "python3"
  },
  "language_info": {
   "codemirror_mode": {
    "name": "ipython",
    "version": 3
   },
   "file_extension": ".py",
   "mimetype": "text/x-python",
   "name": "python",
   "nbconvert_exporter": "python",
   "pygments_lexer": "ipython3",
   "version": "3.7.4"
  }
 },
 "nbformat": 4,
 "nbformat_minor": 2
}
